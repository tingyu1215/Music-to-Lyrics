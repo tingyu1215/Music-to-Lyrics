{
 "cells": [
  {
   "cell_type": "code",
   "execution_count": null,
   "metadata": {},
   "outputs": [
    {
     "name": "stderr",
     "output_type": "stream",
     "text": [
      "C:\\ProgramData\\Anaconda3\\envs\\opencv\\lib\\site-packages\\pretty_midi\\pretty_midi.py:101: RuntimeWarning: Tempo, Key or Time signature change events found on non-zero tracks.  This is not a valid type 0 or type 1 MIDI file.  Tempo, Key or Time Signature may be wrong.\n",
      "  RuntimeWarning)\n"
     ]
    }
   ],
   "source": [
    "import os\n",
    "import pretty_midi\n",
    "from langdetect import detect\n",
    "import shutil\n",
    "\n",
    "count = 0 ;\n",
    "nownum = 'A' ;\n",
    "goal_pos = r'D:\\fine_songs' ;\n",
    "\n",
    "def recurrent(path):\n",
    "    for folder in os.listdir(path) :\n",
    "        if not os.path.isdir(path+'\\\\'+folder):\n",
    "            seperate(path,folder) ;\n",
    "        else :\n",
    "            recurrent(path+'\\\\'+folder) ;\n",
    "\n",
    "def runmusic(path):\n",
    "    try:\n",
    "        lyric= pretty_midi.PrettyMIDI(path).lyrics ;\n",
    "    #except (ValueError, OSError,EOFError,KeyError,KeySignatureError) as error:\n",
    "    except (Exception) as error:\n",
    "        #KeySignatureError\n",
    "        return ;\n",
    "    if lyric : \n",
    "        print(lyric[0].text) ;\n",
    "        #count+=1 ;\n",
    "\n",
    "def seperate(path,filename) :\n",
    "    global count ;\n",
    "    count += 1 ;\n",
    "    try:\n",
    "        lyrics= pretty_midi.PrettyMIDI(path+'\\\\'+filename).lyrics ;\n",
    "        if not lyrics : raise Exception ;\n",
    "    except (Exception) as error:\n",
    "        return ;\n",
    "    merged = '' ;\n",
    "    for lyric in lyrics :\n",
    "        merged += lyric.text ;\n",
    "        merged += ' ' ;\n",
    "    try:\n",
    "        if detect(merged) == 'en' :\n",
    "            shutil.copyfile(path+'\\\\'+filename,goal_pos+'\\\\'+nownum+'\\\\'+filename) ;\n",
    "            #print(count) ;\n",
    "            count = 0 ;\n",
    "    except Exception as error :\n",
    "        pass ;\n",
    "        #print(path+'\\\\'+filename) ;\n",
    "\n",
    "\n",
    "for i in range(ord('B'),ord('Z')+1):\n",
    "    nownum = chr(i) ;\n",
    "    recurrent( r'D:\\download\\lmd_matched (1).tar\\lmd_matched (1)\\lmd_matched'+'\\\\'+nownum)"
   ]
  },
  {
   "cell_type": "code",
   "execution_count": null,
   "metadata": {},
   "outputs": [],
   "source": []
  }
 ],
 "metadata": {
  "kernelspec": {
   "display_name": "Python 3",
   "language": "python",
   "name": "python3"
  },
  "language_info": {
   "codemirror_mode": {
    "name": "ipython",
    "version": 3
   },
   "file_extension": ".py",
   "mimetype": "text/x-python",
   "name": "python",
   "nbconvert_exporter": "python",
   "pygments_lexer": "ipython3",
   "version": "3.6.10"
  }
 },
 "nbformat": 4,
 "nbformat_minor": 4
}
