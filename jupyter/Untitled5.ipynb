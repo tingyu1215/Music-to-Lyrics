{
 "cells": [
  {
   "cell_type": "code",
   "execution_count": 7,
   "metadata": {},
   "outputs": [
    {
     "ename": "SyntaxError",
     "evalue": "invalid syntax (<ipython-input-7-742e10cb5cd7>, line 9)",
     "output_type": "error",
     "traceback": [
      "\u001b[1;36m  File \u001b[1;32m\"<ipython-input-7-742e10cb5cd7>\"\u001b[1;36m, line \u001b[1;32m9\u001b[0m\n\u001b[1;33m    print [sum(semitone)/total_velocity for semitone in midi_data.get_chroma()]\u001b[0m\n\u001b[1;37m                                          ^\u001b[0m\n\u001b[1;31mSyntaxError\u001b[0m\u001b[1;31m:\u001b[0m invalid syntax\n"
     ]
    }
   ],
   "source": [
    "import pretty_midi\n",
    "# Load MIDI file into PrettyMIDI object\n",
    "midi_data = pretty_midi.PrettyMIDI('D:\\download\\lmd_matched (1).tar\\lmd_matched (1)\\lmd_matched\\E\\K\\J\\TREKJHD128F92D11CB')\n",
    "# Print an empirical estimate of its global tempo\n",
    "print (midi_data_estimate_tempo)\n",
    "# Compute the relative amount of each semitone across the entire song,\n",
    "# a proxy for key\n",
    "total_velocity = sum(sum(midi_data.get_chroma()))\n",
    "print [sum(semitone)/total_velocity for semitone in midi_data.get_chroma()]\n",
    "# Shift all notes up by 5 semitones\n",
    "for instrument in midi_data.instruments:\n",
    "    # Don't want to shift drum notes\n",
    "    if not instrument.is_drum:\n",
    "        for note in instrument.notes:\n",
    "            note.pitch += 5\n",
    "# Synthesize the resulting MIDI data using sine waves\n",
    "audio_data = midi_data.synthesize()"
   ]
  },
  {
   "cell_type": "code",
   "execution_count": null,
   "metadata": {},
   "outputs": [],
   "source": []
  },
  {
   "cell_type": "code",
   "execution_count": null,
   "metadata": {},
   "outputs": [],
   "source": []
  }
 ],
 "metadata": {
  "kernelspec": {
   "display_name": "Python 3",
   "language": "python",
   "name": "python3"
  },
  "language_info": {
   "codemirror_mode": {
    "name": "ipython",
    "version": 3
   },
   "file_extension": ".py",
   "mimetype": "text/x-python",
   "name": "python",
   "nbconvert_exporter": "python",
   "pygments_lexer": "ipython3",
   "version": "3.6.10"
  }
 },
 "nbformat": 4,
 "nbformat_minor": 4
}
