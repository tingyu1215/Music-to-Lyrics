{
 "cells": [
  {
   "cell_type": "code",
   "execution_count": null,
   "metadata": {},
   "outputs": [],
   "source": [
    "import os\n",
    "import pretty_midi\n",
    "from langdetect import detect\n",
    "import shutil\n",
    "\n",
    "count = 0 ;\n",
    "nownum = 'A' ;\n",
    "goal_pos = r'D:\\fine_songs' ;\n",
    "\n",
    "def recurrent(path):\n",
    "    for folder in os.listdir(path) :\n",
    "        if not os.path.isdir(path+'\\\\'+folder):\n",
    "            seperate(path,folder) ;\n",
    "        else :\n",
    "            recurrent(path+'\\\\'+folder) ;\n",
    "\n",
    "def runmusic(path):\n",
    "    try:\n",
    "        lyric= pretty_midi.PrettyMIDI(path).lyrics ;\n",
    "    #except (ValueError, OSError,EOFError,KeyError,KeySignatureError) as error:\n",
    "    except (Exception) as error:\n",
    "        #KeySignatureError\n",
    "        return ;\n",
    "    if lyric : \n",
    "        print(lyric[0].text) ;\n",
    "        #count+=1 ;\n",
    "\n",
    "def seperate(path,filename) :\n",
    "    global count ;\n",
    "    count += 1 ;\n",
    "    try:\n",
    "        lyrics= pretty_midi.PrettyMIDI(path+'\\\\'+filename).lyrics ;\n",
    "        if not lyrics : raise Exception ;\n",
    "    except (Exception) as error:\n",
    "        return ;\n",
    "    merged = '' ;\n",
    "    for lyric in lyrics :\n",
    "        merged += lyric.text ;\n",
    "        merged += ' ' ;\n",
    "    try:\n",
    "        if detect(merged) == 'en' :\n",
    "            shutil.copyfile(path+'\\\\'+filename,goal_pos+'\\\\'+nownum+'\\\\'+filename) ;\n",
    "            #print(count) ;\n",
    "            count = 0 ;\n",
    "    except Exception as error :\n",
    "        pass ;\n",
    "        #print(path+'\\\\'+filename) ;\n",
    "\n",
    "\n",
    "for i in range(ord('B'),ord('Z')+1):\n",
    "    nownum = chr(i) ;\n",
    "    recurrent( r'D:\\download\\lmd_matched (1).tar\\lmd_matched (1)\\lmd_matched'+'\\\\'+nownum)"
   ]
  },
  {
   "cell_type": "code",
   "execution_count": 11,
   "metadata": {},
   "outputs": [
    {
     "ename": "FileExistsError",
     "evalue": "[WinError 183] 當檔案已存在時，無法建立該檔案。: 'D:\\\\fine_songs\\\\B'",
     "output_type": "error",
     "traceback": [
      "\u001b[1;31m---------------------------------------------------------------------------\u001b[0m",
      "\u001b[1;31mFileExistsError\u001b[0m                           Traceback (most recent call last)",
      "\u001b[1;32m<ipython-input-11-20f8c2740ed6>\u001b[0m in \u001b[0;36m<module>\u001b[1;34m\u001b[0m\n\u001b[0;32m      1\u001b[0m \u001b[1;32mfor\u001b[0m \u001b[0mi\u001b[0m \u001b[1;32min\u001b[0m \u001b[0mrange\u001b[0m\u001b[1;33m(\u001b[0m\u001b[0mord\u001b[0m\u001b[1;33m(\u001b[0m\u001b[1;34m'B'\u001b[0m\u001b[1;33m)\u001b[0m\u001b[1;33m,\u001b[0m\u001b[0mord\u001b[0m\u001b[1;33m(\u001b[0m\u001b[1;34m'Z'\u001b[0m\u001b[1;33m)\u001b[0m\u001b[1;33m+\u001b[0m\u001b[1;36m1\u001b[0m\u001b[1;33m)\u001b[0m\u001b[1;33m:\u001b[0m\u001b[1;33m\u001b[0m\u001b[1;33m\u001b[0m\u001b[0m\n\u001b[0;32m      2\u001b[0m     \u001b[0mnownum\u001b[0m \u001b[1;33m=\u001b[0m \u001b[0mchr\u001b[0m\u001b[1;33m(\u001b[0m\u001b[0mi\u001b[0m\u001b[1;33m)\u001b[0m \u001b[1;33m;\u001b[0m\u001b[1;33m\u001b[0m\u001b[1;33m\u001b[0m\u001b[0m\n\u001b[1;32m----> 3\u001b[1;33m     \u001b[0mos\u001b[0m\u001b[1;33m.\u001b[0m\u001b[0mmkdir\u001b[0m\u001b[1;33m(\u001b[0m \u001b[1;34mr'D:\\fine_songs'\u001b[0m\u001b[1;33m+\u001b[0m\u001b[1;34m'\\\\'\u001b[0m\u001b[1;33m+\u001b[0m\u001b[0mnownum\u001b[0m\u001b[1;33m)\u001b[0m\u001b[1;33m\u001b[0m\u001b[1;33m\u001b[0m\u001b[0m\n\u001b[0m",
      "\u001b[1;31mFileExistsError\u001b[0m: [WinError 183] 當檔案已存在時，無法建立該檔案。: 'D:\\\\fine_songs\\\\B'"
     ]
    }
   ],
   "source": [
    "for i in range(ord('B'),ord('Z')+1):\n",
    "    nownum = chr(i) ;\n",
    "    os.mkdir( r'D:\\fine_songs'+'\\\\'+nownum)"
   ]
  },
  {
   "cell_type": "code",
   "execution_count": null,
   "metadata": {},
   "outputs": [],
   "source": []
  }
 ],
 "metadata": {
  "kernelspec": {
   "display_name": "Python 3",
   "language": "python",
   "name": "python3"
  },
  "language_info": {
   "codemirror_mode": {
    "name": "ipython",
    "version": 3
   },
   "file_extension": ".py",
   "mimetype": "text/x-python",
   "name": "python",
   "nbconvert_exporter": "python",
   "pygments_lexer": "ipython3",
   "version": "3.6.10"
  }
 },
 "nbformat": 4,
 "nbformat_minor": 4
}
