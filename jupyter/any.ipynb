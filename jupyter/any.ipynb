{
 "cells": [
  {
   "cell_type": "code",
   "execution_count": 3,
   "metadata": {},
   "outputs": [
    {
     "name": "stdout",
     "output_type": "stream",
     "text": [
      "[70.0, 0.5, 0.0]\n",
      "I\n",
      "[70.0, 1.0, 0.5]\n",
      "don't\n",
      "[70.0, 1.0, 0.0]\n",
      "wan\n",
      "[70.0, 1.0, 0.0]\n",
      "na\n",
      "[70.0, 1.0, 0.0]\n",
      "feel\n",
      "[70.0, 1.0, 0.0]\n",
      "like\n",
      "[72.0, 1.0, 0.0]\n",
      "I'm\n",
      "[72.0, 1.0, 0.0]\n",
      "strand\n",
      "[70.0, 4.0, 1.0]\n",
      "ed\n",
      "[60.0, 1.0, 16.0]\n",
      "You\n",
      "[63.0, 1.0, 0.0]\n",
      "left\n",
      "[63.0, 1.0, 0.0]\n",
      "me\n",
      "[63.0, 1.0, 0.0]\n",
      "a\n",
      "[63.0, 1.0, 0.0]\n",
      "lone\n",
      "[63.0, 0.5, 0.0]\n",
      "I\n",
      "[60.0, 1.0, 1.0]\n",
      "can\n",
      "[60.0, 1.0, 0.0]\n",
      "take\n",
      "[62.0, 1.0, 0.0]\n",
      "it\n",
      "[62.0, 1.0, 0.0]\n",
      "no\n",
      "[63.0, 1.0, 0.0]\n",
      "more\n"
     ]
    }
   ],
   "source": [
    "import numpy as np\n",
    "a=np.load('000203a04a64ad57329a058f11e235cb (2).npy',allow_pickle=1)\n",
    "for i in range(0,20):\n",
    "    for j in range(1,3):\n",
    "            print(a[0][j][i])"
   ]
  },
  {
   "cell_type": "code",
   "execution_count": null,
   "metadata": {},
   "outputs": [],
   "source": []
  }
 ],
 "metadata": {
  "kernelspec": {
   "display_name": "Python 3",
   "language": "python",
   "name": "python3"
  },
  "language_info": {
   "codemirror_mode": {
    "name": "ipython",
    "version": 3
   },
   "file_extension": ".py",
   "mimetype": "text/x-python",
   "name": "python",
   "nbconvert_exporter": "python",
   "pygments_lexer": "ipython3",
   "version": "3.6.10"
  }
 },
 "nbformat": 4,
 "nbformat_minor": 4
}
