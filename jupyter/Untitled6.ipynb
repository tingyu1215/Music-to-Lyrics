{
 "cells": [
  {
   "cell_type": "code",
   "execution_count": 1,
   "metadata": {},
   "outputs": [
    {
     "ename": "FileNotFoundError",
     "evalue": "[WinError 3] 系統找不到指定的路徑。: 'D:\\\\download\\\\lmd_matched (1).tar\\\\lmd_matched (1)\\\\lmd_matched'",
     "output_type": "error",
     "traceback": [
      "\u001b[1;31m---------------------------------------------------------------------------\u001b[0m",
      "\u001b[1;31mFileNotFoundError\u001b[0m                         Traceback (most recent call last)",
      "\u001b[1;32m<ipython-input-1-ec3b98569603>\u001b[0m in \u001b[0;36m<module>\u001b[1;34m\u001b[0m\n\u001b[0;32m     53\u001b[0m \u001b[1;31m#pretty_midi.PrettyMIDI(r\"D:\\download\\lmd_matched (1).tar\\lmd_matched (1)\\lmd_matched\\L\\M\\H\\TRLMHJL12903CC6D50\\75aa9bfa965f096ce7cff2cd0d68fc98.mid\") ;\u001b[0m\u001b[1;33m\u001b[0m\u001b[1;33m\u001b[0m\u001b[1;33m\u001b[0m\u001b[0m\n\u001b[0;32m     54\u001b[0m \u001b[1;33m\u001b[0m\u001b[0m\n\u001b[1;32m---> 55\u001b[1;33m \u001b[0mrunall\u001b[0m\u001b[1;33m(\u001b[0m \u001b[1;34mr'D:\\download\\lmd_matched (1).tar\\lmd_matched (1)\\lmd_matched'\u001b[0m\u001b[1;33m)\u001b[0m        \u001b[1;33m;\u001b[0m\u001b[1;33m\u001b[0m\u001b[1;33m\u001b[0m\u001b[0m\n\u001b[0m\u001b[0;32m     56\u001b[0m \u001b[1;31m#print(count) ;\u001b[0m\u001b[1;33m\u001b[0m\u001b[1;33m\u001b[0m\u001b[1;33m\u001b[0m\u001b[0m\n\u001b[0;32m     57\u001b[0m \u001b[1;31m#000\u001b[0m\u001b[1;33m\u001b[0m\u001b[1;33m\u001b[0m\u001b[1;33m\u001b[0m\u001b[0m\n",
      "\u001b[1;32m<ipython-input-1-ec3b98569603>\u001b[0m in \u001b[0;36mrunall\u001b[1;34m(path)\u001b[0m\n\u001b[0;32m     40\u001b[0m \u001b[1;31m##\u001b[0m\u001b[1;33m\u001b[0m\u001b[1;33m\u001b[0m\u001b[1;33m\u001b[0m\u001b[0m\n\u001b[0;32m     41\u001b[0m \u001b[1;32mdef\u001b[0m \u001b[0mrunall\u001b[0m\u001b[1;33m(\u001b[0m\u001b[0mpath\u001b[0m\u001b[1;33m)\u001b[0m\u001b[1;33m:\u001b[0m\u001b[1;33m\u001b[0m\u001b[1;33m\u001b[0m\u001b[0m\n\u001b[1;32m---> 42\u001b[1;33m     \u001b[1;32mfor\u001b[0m \u001b[0mfolder\u001b[0m \u001b[1;32min\u001b[0m \u001b[0mos\u001b[0m\u001b[1;33m.\u001b[0m\u001b[0mlistdir\u001b[0m\u001b[1;33m(\u001b[0m\u001b[0mpath\u001b[0m\u001b[1;33m)\u001b[0m \u001b[1;33m:\u001b[0m\u001b[1;33m\u001b[0m\u001b[1;33m\u001b[0m\u001b[0m\n\u001b[0m\u001b[0;32m     43\u001b[0m         \u001b[1;32mif\u001b[0m \u001b[1;32mnot\u001b[0m \u001b[0mos\u001b[0m\u001b[1;33m.\u001b[0m\u001b[0mpath\u001b[0m\u001b[1;33m.\u001b[0m\u001b[0misdir\u001b[0m\u001b[1;33m(\u001b[0m\u001b[0mpath\u001b[0m\u001b[1;33m+\u001b[0m\u001b[1;34m'\\\\'\u001b[0m\u001b[1;33m+\u001b[0m\u001b[0mfolder\u001b[0m\u001b[1;33m)\u001b[0m\u001b[1;33m:\u001b[0m\u001b[1;33m\u001b[0m\u001b[1;33m\u001b[0m\u001b[0m\n\u001b[0;32m     44\u001b[0m             \u001b[0mprint\u001b[0m\u001b[1;33m(\u001b[0m\u001b[0mpath\u001b[0m\u001b[1;33m+\u001b[0m\u001b[1;34m'\\\\'\u001b[0m\u001b[1;33m+\u001b[0m\u001b[0mfolder\u001b[0m\u001b[1;33m)\u001b[0m \u001b[1;33m;\u001b[0m\u001b[1;33m\u001b[0m\u001b[1;33m\u001b[0m\u001b[0m\n",
      "\u001b[1;31mFileNotFoundError\u001b[0m: [WinError 3] 系統找不到指定的路徑。: 'D:\\\\download\\\\lmd_matched (1).tar\\\\lmd_matched (1)\\\\lmd_matched'"
     ]
    }
   ],
   "source": [
    "import os\n",
    "import pretty_midi\n",
    "'''\n",
    "path = r'D:\\download\\lmd_matched (1).tar\\lmd_matched (1)\\lmd_matched' ;\n",
    "files= os.listdir(path) #得到資料夾下的所有檔名稱\n",
    "s = []\n",
    "for file in files: #遍歷資料夾\n",
    "    if not os.path.isdir(file): #判斷是否是資料夾,不是資料夾才打開\n",
    "        data = pretty_midi.PrettyMIDI(path+\"\\\\\"+file)\n",
    "        print(data.lyrics)\n",
    "    else:\n",
    "        path2=(path+\"\\\\\"+file)\n",
    "        files2=os.listdir(path2)\n",
    "        for file in files2:\n",
    "            if not os.path.isdir(file):\n",
    "                data = pretty_midi.PrettyMIDI(path2+\"\\\\\"+file)\n",
    "                print(data.lyrics)\n",
    "            else:\n",
    "                path3=(path2+\"\\\\\"+file)\n",
    "                files3=os.listdir(path3)\n",
    "                for file in files3:\n",
    "                    if not os.path.isdir(file):\n",
    "                        data = pretty_midi.PrettyMIDI(path3+\"\\\\\"+file)\n",
    "                        print(data.lyrics)\n",
    "                    else:\n",
    "                        path4=(path3+\"\\\\\"+file)\n",
    "                        files4=os.listdir(path4)\n",
    "                        for file in files4:\n",
    "                            if not os.path.isdir(file):\n",
    "                                data = pretty_midi.PrettyMIDI(path4+\"\\\\\"+file)\n",
    "                                print(data.lyrics)\n",
    "                            else:\n",
    "                                path5=(path4+\"\\\\\"+file)\n",
    "                                files5=os.listdir(path5)\n",
    "                                for file in files5:\n",
    "                                    if not os.path.isdir(file):\n",
    "                                        data = pretty_midi.PrettyMIDI(path5+\"\\\\\"+file)\n",
    "                                        print(data.lyrics)\n",
    "'''\n",
    "##\n",
    "def runall(path):\n",
    "    for folder in os.listdir(path) :\n",
    "        if not os.path.isdir(path+'\\\\'+folder):\n",
    "            print(path+'\\\\'+folder) ;\n",
    "            lyric= pretty_midi.PrettyMIDI(path+'\\\\'+folder).lyrics ;\n",
    "            if lyric : \n",
    "                print(lyric) ;\n",
    "                #count+=1 ;\n",
    "        else :\n",
    "            runall(path+'\\\\'+folder) ;\n",
    "            \n",
    "            \n",
    "#pretty_midi.PrettyMIDI(r\"D:\\download\\lmd_matched (1).tar\\lmd_matched (1)\\lmd_matched\\L\\M\\H\\TRLMHJL12903CC6D50\\75aa9bfa965f096ce7cff2cd0d68fc98.mid\") ;\n",
    "            \n",
    "runall( r'D:\\download\\lmd_matched (1).tar\\lmd_matched (1)\\lmd_matched')        ;\n",
    "#print(count) ;\n",
    "#000                        \n",
    "                                        \n"
   ]
  },
  {
   "cell_type": "code",
   "execution_count": null,
   "metadata": {},
   "outputs": [],
   "source": []
  }
 ],
 "metadata": {
  "kernelspec": {
   "display_name": "Python 3",
   "language": "python",
   "name": "python3"
  },
  "language_info": {
   "codemirror_mode": {
    "name": "ipython",
    "version": 3
   },
   "file_extension": ".py",
   "mimetype": "text/x-python",
   "name": "python",
   "nbconvert_exporter": "python",
   "pygments_lexer": "ipython3",
   "version": "3.6.10"
  }
 },
 "nbformat": 4,
 "nbformat_minor": 4
}
